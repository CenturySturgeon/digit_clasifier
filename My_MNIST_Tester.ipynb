{
 "cells": [
  {
   "cell_type": "code",
   "execution_count": 1,
   "id": "2b8719f6",
   "metadata": {},
   "outputs": [],
   "source": [
    "import torch\n",
    "import torchvision\n",
    "\n",
    "from torchvision.datasets import ImageFolder\n",
    "from torchvision.transforms import Compose, Resize, ToTensor"
   ]
  },
  {
   "cell_type": "code",
   "execution_count": 2,
   "id": "79e41790",
   "metadata": {},
   "outputs": [],
   "source": [
    "loaded_model = torch.load('models/my_digit_clasifier_3L_97pct.pt')\n"
   ]
  },
  {
   "cell_type": "code",
   "execution_count": 3,
   "id": "dcd1d73f",
   "metadata": {},
   "outputs": [
    {
     "data": {
      "image/png": "[encoded data removed]",
      "text/plain": [
       "<PIL.PngImagePlugin.PngImageFile image mode=L size=28x28 at 0x7FE6101FB940>"
      ]
     },
     "execution_count": 3,
     "metadata": {},
     "output_type": "execute_result"
    }
   ],
   "source": [
    "from PIL import Image\n",
    "import torchvision.transforms as transforms\n",
    "\n",
    "image_path = '/home/jgras/.fastai/data/mnist_png/testing/0/7868.png'\n",
    "image = Image.open(image_path)\n",
    "transform = transforms.Compose([\n",
    "    transforms.Grayscale(),\n",
    "    transforms.Resize((28, 28)),\n",
    "    transforms.ToTensor(),\n",
    "    transforms.Normalize([0.5], [0.5])\n",
    "])\n",
    "image_tensor = transform(image).unsqueeze(0)\n",
    "image_tensor = image_tensor.to('cuda:0')\n",
    "image\n"
   ]
  },
  {
   "cell_type": "code",
   "execution_count": 4,
   "id": "e989ac39",
   "metadata": {},
   "outputs": [
    {
     "name": "stdout",
     "output_type": "stream",
     "text": [
      "The predicted label is: 0\n"
     ]
    }
   ],
   "source": [
    "output = loaded_model(image_tensor)\n",
    "prediction = torch.argmax(output)\n",
    "print(\"The predicted label is:\", prediction.item())\n"
   ]
  },
  {
   "cell_type": "code",
   "execution_count": null,
   "id": "4033f8f8",
   "metadata": {},
   "outputs": [],
   "source": []
  }
 ],
 "metadata": {
  "kernelspec": {
   "display_name": "Python 3 (ipykernel)",
   "language": "python",
   "name": "python3"
  },
  "language_info": {
   "codemirror_mode": {
    "name": "ipython",
    "version": 3
   },
   "file_extension": ".py",
   "mimetype": "text/x-python",
   "name": "python",
   "nbconvert_exporter": "python",
   "pygments_lexer": "ipython3",
   "version": "3.10.9"
  }
 },
 "nbformat": 4,
 "nbformat_minor": 5
}
